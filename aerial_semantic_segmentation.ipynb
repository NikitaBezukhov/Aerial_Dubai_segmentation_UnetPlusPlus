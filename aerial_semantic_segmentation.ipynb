{
 "cells": [
  {
   "cell_type": "code",
   "execution_count": null,
   "metadata": {},
   "outputs": [],
   "source": []
  },
  {
   "cell_type": "markdown",
   "metadata": {
    "colab": {
     "base_uri": "https://localhost:8080/"
    },
    "id": "ep-_A2-tWw7Y",
    "outputId": "ebf0bac7-eba4-4c99-dce6-25fadc554885"
   },
   "source": [
    "# __This is a notebook of a PyTorch Dubai Aerial photo segmentation with Pytorch Unet++ (ResNet101 backbone)!__ \n",
    "# Project by __[Nikita Bezukhov](https://github.com/NikitaBezukhov)__!\n",
    "### The data set is __[Semantic segmentation of aerial imagery from Kaggle](https://www.kaggle.com/humansintheloop/semantic-segmentation-of-aerial-imagery)__.\n",
    "### Was built in __[Google Colab](https://colab.research.google.com/)__ environment, so make any adjustments needed for it to work on your machine."
   ]
  },
  {
   "cell_type": "markdown",
   "metadata": {
    "id": "PQTeg7Uxu2Mu"
   },
   "source": [
    "####\n",
    "####\n",
    "## __1. First lets install, import and define all necessary libraries/classes/functions that we will be using.__"
   ]
  },
  {
   "cell_type": "code",
   "execution_count": null,
   "metadata": {
    "id": "PQTeg7Uxu2Mu"
   },
   "outputs": [],
   "source": [
    "pip install barbar git+https://github.com/albumentations-team/albumentations segmentation_models_pytorch "
   ]
  },
  {
   "cell_type": "code",
   "execution_count": null,
   "metadata": {
    "id": "ndXCKoSpXx0d"
   },
   "outputs": [],
   "source": [
    "import os\n",
    "import segmentation_models_pytorch \n",
    "import logging\n",
    "import torch\n",
    "import gc\n",
    "import re\n",
    "from math import exp\n",
    "import cv2\n",
    "import random\n",
    "import torchvision\n",
    "from imageio import imread\n",
    "import torch.nn as nn\n",
    "from PIL import Image, ImageOps, ImageShow\n",
    "import torch.nn.functional as F\n",
    "import torchvision.transforms.functional as TF\n",
    "from sklearn.metrics import jaccard_score\n",
    "import torch.nn.init as init\n",
    "from torch.autograd import Variable\n",
    "import numpy as np\n",
    "import albumentations as A\n",
    "from albumentations.pytorch import ToTensorV2\n",
    "from torch.utils.data import Dataset\n",
    "from torchvision import transforms, datasets \n",
    "from shutil import copyfile, move\n",
    "import matplotlib.pyplot as plt\n",
    "from torch.utils.tensorboard import SummaryWriter\n",
    "from barbar import Bar\n",
    "from PIL import Image\n",
    "import matplotlib.pyplot as plt\n",
    "from tensorflow.keras.preprocessing import image\n",
    "import torch\n",
    "import pandas as pd\n",
    "from torchsummary import summary\n",
    "from torchvision.models.segmentation.deeplabv3 import DeepLabHead\n",
    "from sklearn.metrics import confusion_matrix, ConfusionMatrixDisplay, classification_report\n",
    "import math\n",
    "from torchvision import models\n",
    "import torch.utils.model_zoo as model_zoo\n",
    "from itertools import chain\n",
    "from torch.optim.lr_scheduler import ReduceLROnPlateau\n",
    "os.environ['CUDA_LAUNCH_BLOCKING'] = \"1\""
   ]
  },
  {
   "cell_type": "code",
   "execution_count": null,
   "metadata": {
    "id": "oDlouE6xX9o0"
   },
   "outputs": [],
   "source": [
    "class EarlyStopping:\n",
    "    \"\"\"Early stops the training if validation loss doesn't improve after a given patience.\"\"\"\n",
    "    def __init__(self, patience=7, verbose=False, delta=0, path='checkpoint.pt', trace_func=print, best_score=None):\n",
    "        \"\"\"\n",
    "        Args:\n",
    "            patience (int): How long to wait after last time validation loss improved.\n",
    "                            Default: 7\n",
    "            verbose (bool): If True, prints a message for each validation loss improvement. \n",
    "                            Default: False\n",
    "            delta (float): Minimum change in the monitored quantity to qualify as an improvement.\n",
    "                            Default: 0\n",
    "            path (str): Path for the checkpoint to be saved to.\n",
    "                            Default: 'checkpoint.pt'\n",
    "            trace_func (function): trace print function.\n",
    "                            Default: print            \n",
    "        \"\"\"\n",
    "        self.patience = patience\n",
    "        self.verbose = verbose\n",
    "        self.counter = 0\n",
    "        self.best_score = best_score\n",
    "        self.early_stop = False\n",
    "        self.val_loss_min = np.Inf\n",
    "        self.delta = delta\n",
    "        self.path = path\n",
    "        self.trace_func = trace_func\n",
    "    def __call__(self, val_loss, model):\n",
    "\n",
    "        score = -val_loss\n",
    "\n",
    "        if self.best_score is None:\n",
    "            self.best_score = score\n",
    "            self.save_checkpoint(val_loss, model)\n",
    "        elif score < self.best_score + self.delta:\n",
    "            self.counter += 1\n",
    "            self.trace_func(f'EarlyStopping counter: {self.counter} out of {self.patience}')\n",
    "            if self.counter >= self.patience:\n",
    "                self.early_stop = True\n",
    "        else:\n",
    "            self.best_score = score\n",
    "            self.save_checkpoint(val_loss, model)\n",
    "            self.counter = 0\n",
    "\n",
    "    def save_checkpoint(self, val_loss, model):\n",
    "        '''Saves model when monitored metric decrease.'''\n",
    "        if self.verbose:\n",
    "            self.trace_func(f'Monitored metric has improved ({self.val_loss_min:.6f} --> {val_loss:.6f}).  Saving model ...')\n",
    "        torch.save(model.state_dict(), f'/content/drive/MyDrive/aerialmodel.pt') \n",
    "        self.val_loss_min = val_loss"
   ]
  },
  {
   "cell_type": "code",
   "execution_count": null,
   "metadata": {
    "id": "wYm5glYHljG9"
   },
   "outputs": [],
   "source": [
    "def square_the_image(image):\n",
    "  \n",
    "    desired_size = max(image.size[0], image.size[1])\n",
    "    old_size = (image.size)  \n",
    "\n",
    "    ratio = float(desired_size)/max(old_size)\n",
    "    new_size = tuple([int(x*ratio) for x in old_size])\n",
    "\n",
    "    image = image.resize(new_size, Image.ANTIALIAS)\n",
    "\n",
    "    squared_image = Image.new(\"RGB\", (desired_size, desired_size))\n",
    "    squared_image.paste(image, ((desired_size-new_size[0])//2,\n",
    "                      (desired_size-new_size[1])//2))\n",
    "\n",
    "    return np.array(squared_image)"
   ]
  },
  {
   "cell_type": "code",
   "execution_count": null,
   "metadata": {
    "id": "Sk0273iollaN"
   },
   "outputs": [],
   "source": [
    "color_dict = {0: (0, 0, 0),\n",
    "              1: (254, 221,  58),\n",
    "              2: (132,  41, 246),\n",
    "              3: (110, 193, 228),\n",
    "              4: (60, 16, 152),\n",
    "              5: (226, 169, 41),\n",
    "              6: (155, 155, 155)}\n",
    "\n",
    "\n",
    "def rgb_to_onehot(rgb_arr, color_dict=color_dict):\n",
    "    num_classes = len(color_dict)\n",
    "    shape = rgb_arr.shape[:2]+(num_classes,)\n",
    "    arr = np.zeros( shape, dtype=np.int8 )\n",
    "    for i, cls in enumerate(color_dict):\n",
    "        arr[:,:,i] = np.all(rgb_arr.reshape( (-1,3) ) == color_dict[i], axis=1).reshape(shape[:2])\n",
    "    return torchvision.transforms.ToTensor()(arr)\n",
    "\n",
    "\n",
    "def onehot_to_rgb(onehot, color_dict=color_dict):\n",
    "    single_layer = np.argmax(onehot, axis=-1)\n",
    "    output = np.zeros( onehot.shape[:2]+(3,) )\n",
    "    for k in color_dict.keys():\n",
    "        output[single_layer==k] = color_dict[k]\n",
    "    return np.uint8(output)"
   ]
  },
  {
   "cell_type": "code",
   "execution_count": null,
   "metadata": {
    "id": "FElQr8MTO-iA"
   },
   "outputs": [],
   "source": [
    "class Metric(object):\n",
    "    \"\"\"Base class for all metrics.\n",
    "    From: https://github.com/pytorch/tnt/blob/master/torchnet/meter/meter.py\n",
    "    \"\"\"\n",
    "    def reset(self):\n",
    "        pass\n",
    "\n",
    "    def add(self):\n",
    "        pass\n",
    "\n",
    "    def value(self):\n",
    "        pass\n",
    "\n",
    "class ConfusionMatrix(Metric):\n",
    "    \"\"\"Constructs a confusion matrix for a multi-class classification problems.\n",
    "    Does not support multi-label, multi-class problems.\n",
    "    Keyword arguments:\n",
    "    - num_classes (int): number of classes in the classification problem.\n",
    "    - normalized (boolean, optional): Determines whether or not the confusion\n",
    "    matrix is normalized or not. Default: False.\n",
    "    Modified from: https://github.com/pytorch/tnt/blob/master/torchnet/meter/confusionmeter.py\n",
    "    \"\"\"\n",
    "\n",
    "    def __init__(self, num_classes, normalized=False):\n",
    "        super().__init__()\n",
    "\n",
    "        self.conf = np.ndarray((num_classes, num_classes), dtype=np.int64)\n",
    "        self.normalized = normalized\n",
    "        self.num_classes = num_classes\n",
    "        self.reset()\n",
    "\n",
    "    def reset(self):\n",
    "        self.conf.fill(0)\n",
    "\n",
    "    def add(self, predicted, target):\n",
    "        \"\"\"Computes the confusion matrix\n",
    "        The shape of the confusion matrix is K x K, where K is the number\n",
    "        of classes.\n",
    "        Keyword arguments:\n",
    "        - predicted (Tensor or numpy.ndarray): Can be an N x K tensor/array of\n",
    "        predicted scores obtained from the model for N examples and K classes,\n",
    "        or an N-tensor/array of integer values between 0 and K-1.\n",
    "        - target (Tensor or numpy.ndarray): Can be an N x K tensor/array of\n",
    "        ground-truth classes for N examples and K classes, or an N-tensor/array\n",
    "        of integer values between 0 and K-1.\n",
    "        \"\"\"\n",
    "        # If target and/or predicted are tensors, convert them to numpy arrays\n",
    "        if torch.is_tensor(predicted):\n",
    "            predicted = predicted.cpu().numpy()\n",
    "        if torch.is_tensor(target):\n",
    "            target = target.cpu().numpy()\n",
    "\n",
    "        assert predicted.shape[0] == target.shape[0], \\\n",
    "            'number of targets and predicted outputs do not match'\n",
    "\n",
    "        if np.ndim(predicted) != 1:\n",
    "            assert predicted.shape[1] == self.num_classes, \\\n",
    "                'number of predictions does not match size of confusion matrix'\n",
    "            predicted = np.argmax(predicted, 1)\n",
    "        else:\n",
    "            assert (predicted.max() < self.num_classes) and (predicted.min() >= 0), \\\n",
    "                'predicted values are not between 0 and k-1'\n",
    "\n",
    "        if np.ndim(target) != 1:\n",
    "            assert target.shape[1] == self.num_classes, \\\n",
    "                'Onehot target does not match size of confusion matrix'\n",
    "            assert (target >= 0).all() and (target <= 1).all(), \\\n",
    "                'in one-hot encoding, target values should be 0 or 1'\n",
    "            assert (target.sum(1) == 1).all(), \\\n",
    "                'multi-label setting is not supported'\n",
    "            target = np.argmax(target, 1)\n",
    "        else:\n",
    "            assert (target.max() < self.num_classes) and (target.min() >= 0), \\\n",
    "                'target values are not between 0 and k-1'\n",
    "\n",
    "        # hack for bincounting 2 arrays together\n",
    "        x = predicted + self.num_classes * target\n",
    "        bincount_2d = np.bincount(\n",
    "            x.astype(np.int64), minlength=self.num_classes**2)\n",
    "        assert bincount_2d.size == self.num_classes**2\n",
    "        conf = bincount_2d.reshape((self.num_classes, self.num_classes))\n",
    "\n",
    "        self.conf += conf\n",
    "\n",
    "    def value(self):\n",
    "        \"\"\"\n",
    "        Returns:\n",
    "            Confustion matrix of K rows and K columns, where rows corresponds\n",
    "            to ground-truth targets and columns corresponds to predicted\n",
    "            targets.\n",
    "        \"\"\"\n",
    "        if self.normalized:\n",
    "            conf = self.conf.astype(np.float32)\n",
    "            return conf / conf.sum(1).clip(min=1e-12)[:, None]\n",
    "        else:\n",
    "            return self.conf        \n",
    "\n",
    "\n",
    "class IoU(Metric):\n",
    "    \"\"\"Computes the intersection over union (IoU) per class and corresponding\n",
    "    mean (mIoU).\n",
    "    Intersection over union (IoU) is a common evaluation metric for semantic\n",
    "    segmentation. The predictions are first accumulated in a confusion matrix\n",
    "    and the IoU is computed from it as follows:\n",
    "        IoU = true_positive / (true_positive + false_positive + false_negative).\n",
    "    Keyword arguments:\n",
    "    - num_classes (int): number of classes in the classification problem\n",
    "    - normalized (boolean, optional): Determines whether or not the confusion\n",
    "    matrix is normalized or not. Default: False.\n",
    "    - ignore_index (int or iterable, optional): Index of the classes to ignore\n",
    "    when computing the IoU. Can be an int, or any iterable of ints.\n",
    "    \"\"\"\n",
    "\n",
    "    def __init__(self, num_classes, normalized=False, ignore_index=None):\n",
    "        super().__init__()\n",
    "        self.conf_metric = ConfusionMatrix(num_classes, normalized)\n",
    "\n",
    "        if ignore_index is None:\n",
    "            self.ignore_index = None\n",
    "        elif isinstance(ignore_index, int):\n",
    "            self.ignore_index = (ignore_index,)\n",
    "        else:\n",
    "            try:\n",
    "                self.ignore_index = tuple(ignore_index)\n",
    "            except TypeError:\n",
    "                raise ValueError(\"'ignore_index' must be an int or iterable\")\n",
    "\n",
    "    def reset(self):\n",
    "        self.conf_metric.reset()\n",
    "\n",
    "    def add(self, predicted, target):\n",
    "        \"\"\"Adds the predicted and target pair to the IoU metric.\n",
    "        Keyword arguments:\n",
    "        - predicted (Tensor): Can be a (N, K, H, W) tensor of\n",
    "        predicted scores obtained from the model for N examples and K classes,\n",
    "        or (N, H, W) tensor of integer values between 0 and K-1.\n",
    "        - target (Tensor): Can be a (N, K, H, W) tensor of\n",
    "        target scores for N examples and K classes, or (N, H, W) tensor of\n",
    "        integer values between 0 and K-1.\n",
    "        \"\"\"\n",
    "        # Dimensions check\n",
    "        assert predicted.size(0) == target.size(0), \\\n",
    "            'number of targets and predicted outputs do not match'\n",
    "        assert predicted.dim() == 3 or predicted.dim() == 4, \\\n",
    "            \"predictions must be of dimension (N, H, W) or (N, K, H, W)\"\n",
    "        assert target.dim() == 3 or target.dim() == 4, \\\n",
    "            \"targets must be of dimension (N, H, W) or (N, K, H, W)\"\n",
    "\n",
    "        # If the tensor is in categorical format convert it to integer format\n",
    "        if predicted.dim() == 4:\n",
    "            _, predicted = predicted.max(1)\n",
    "        if target.dim() == 4:\n",
    "            _, target = target.max(1)\n",
    "\n",
    "        self.conf_metric.add(predicted.view(-1), target.view(-1))\n",
    "\n",
    "    def value(self):\n",
    "        \"\"\"Computes the IoU and mean IoU.\n",
    "        The mean computation ignores NaN elements of the IoU array.\n",
    "        Returns:\n",
    "            Tuple: (IoU, mIoU). The first output is the per class IoU,\n",
    "            for K classes it's numpy.ndarray with K elements. The second output,\n",
    "            is the mean IoU.\n",
    "        \"\"\"\n",
    "        conf_matrix = self.conf_metric.value()\n",
    "        if self.ignore_index is not None:\n",
    "            conf_matrix[:, self.ignore_index] = 0\n",
    "            conf_matrix[self.ignore_index, :] = 0\n",
    "        true_positive = np.diag(conf_matrix)\n",
    "        false_positive = np.sum(conf_matrix, 0) - true_positive\n",
    "        false_negative = np.sum(conf_matrix, 1) - true_positive\n",
    "\n",
    "        # Just in case we get a division by 0, ignore/hide the error\n",
    "        with np.errstate(divide='ignore', invalid='ignore'):\n",
    "            iou = true_positive / (true_positive + false_positive + false_negative)\n",
    "\n",
    "        return iou, np.nanmean(iou)"
   ]
  },
  {
   "cell_type": "markdown",
   "metadata": {
    "id": "PQTeg7Uxu2Mu"
   },
   "source": [
    "## __2. Data preparation.__\n",
    "### Dataset consists of 72 Dubai aerial photos and ground truth masks consisting of 6 classes:\n",
    "#### 1.Building\n",
    "#### 2.Land (unpaved area)\n",
    "#### 3.Road\n",
    "#### 4.Vegetation \n",
    "#### 5.Water \n",
    "#### 6.Unlabeled \n",
    "#### We will one-hot encode our masks for a loss function backprop and then will be able to reverse one-hot to look at results of our model's work with functions we defined above: \"rgb_to_onehot\" and \"onehot_to_rgb\". (All the colors for classes are saved in color_dict of a function.\n",
    "### Since dataset is so small I decided to hand pick 16 different pics for validation and leave other 56 for training.\n",
    "### We will unzip it and put image and mask path in lists for our custom dataset."
   ]
  },
  {
   "cell_type": "code",
   "execution_count": null,
   "metadata": {
    "colab": {
     "base_uri": "https://localhost:8080/"
    },
    "id": "IUQeX-6HX_Vd",
    "outputId": "a990bd84-5e8c-4644-a2a7-f9eda54b179b"
   },
   "outputs": [],
   "source": [
    "!unzip /content/drive/MyDrive/aerial.zip -d /content"
   ]
  },
  {
   "cell_type": "code",
   "execution_count": null,
   "metadata": {
    "id": "7RlIYwFSX_Tf"
   },
   "outputs": [],
   "source": [
    "train_photos = '/content/train_photo/'\n",
    "train_masks = '/content/train_mask/'\n",
    "val_photos = '/content/val_photo/'\n",
    "val_masks = '/content/val_mask/'"
   ]
  },
  {
   "cell_type": "code",
   "execution_count": null,
   "metadata": {
    "colab": {
     "base_uri": "https://localhost:8080/"
    },
    "id": "IzpKToDRX_RQ",
    "outputId": "583490d6-1e3f-476a-eed3-ff6eeaaede76"
   },
   "outputs": [
    {
     "name": "stdout",
     "output_type": "stream",
     "text": [
      "56\n",
      "56\n",
      "16\n",
      "16\n"
     ]
    }
   ],
   "source": [
    "print(len(os.listdir(train_photos)))\n",
    "print(len(os.listdir(train_masks)))\n",
    "print(len(os.listdir(val_photos)))\n",
    "print(len(os.listdir(val_masks)))"
   ]
  },
  {
   "cell_type": "code",
   "execution_count": null,
   "metadata": {
    "id": "JBYtMVyrX_O2"
   },
   "outputs": [],
   "source": [
    "train_photos_paths = [train_photos + photo for photo in os.listdir(train_photos)]\n",
    "train_masks_paths = [train_masks + mask for mask in os.listdir(train_masks)]\n",
    "val_photos_paths = [val_photos + photo for photo in os.listdir(val_photos)]\n",
    "val_masks_paths = [val_masks + mask for mask in os.listdir(val_masks)]"
   ]
  },
  {
   "cell_type": "code",
   "execution_count": null,
   "metadata": {
    "id": "t4kxGZjSaRFn"
   },
   "outputs": [],
   "source": [
    "train_photos_paths = sorted(train_photos_paths)\n",
    "train_masks_paths = sorted(train_masks_paths)\n",
    "val_photos_paths = sorted(val_photos_paths)\n",
    "val_masks_paths = sorted(val_masks_paths)"
   ]
  },
  {
   "cell_type": "code",
   "execution_count": null,
   "metadata": {
    "colab": {
     "base_uri": "https://localhost:8080/"
    },
    "id": "wm8MmA_aX_Ms",
    "outputId": "121e8c32-e23a-4cc4-a696-90162c4facb6"
   },
   "outputs": [],
   "source": [
    "for i,every in enumerate(train_photos_paths):\n",
    "    print(every,train_masks_paths[i])"
   ]
  },
  {
   "cell_type": "code",
   "execution_count": null,
   "metadata": {
    "colab": {
     "base_uri": "https://localhost:8080/"
    },
    "id": "3uUmTYbZX_Hm",
    "outputId": "b384170b-9d8f-4ee4-8060-d52fd3277551"
   },
   "outputs": [],
   "source": [
    "for i,every in enumerate(val_photos_paths):\n",
    "    print(every,val_masks_paths[i])"
   ]
  },
  {
   "cell_type": "markdown",
   "metadata": {
    "id": "PQTeg7Uxu2Mu"
   },
   "source": [
    "##\n",
    "## __3. Data augmentation.__\n",
    "### Dataset consists of pictures of different size 500-800 pixels on HxW and are rectangular (but almost square). At the start of the notebook we defined \"square_the_image\" function that will 0 pad each picture so that it becomes a square.\n",
    "### Since pictures have a lot of small detailes, to not lose them I decided to resize all of them to 800x800 pixels. \n",
    "### We will be using Albumentations image augmentation library to transform scans and corresponding masks in the same way.\n",
    "### I found next augmentations to make the most sense for this dataset: affine transformations with zoom 0.9-1.1, shift -0.15-0.15 and rotation -180-180 degrees and shear -10-10 degrees. Also I found random grid shuffle to be an appropriate augmentation for this kind of data. (splitting image into 4 equal squares and randomly shuffling them)\n",
    "### We also incorporate random horizontal flip and normalization. (we will calculate mean and std for normalization later)"
   ]
  },
  {
   "cell_type": "code",
   "execution_count": 35,
   "metadata": {
    "id": "mW5hObeYX_FH"
   },
   "outputs": [],
   "source": [
    "image_size = 800\n",
    "\n",
    "train_transforms = A.Compose([\n",
    "    A.Resize (image_size, image_size, p=1.0),\n",
    "    A.RandomGridShuffle(grid=(2, 2), p=0.33),\n",
    "    A.augmentations.geometric.transforms.Affine(scale=(0.9,1.1), translate_percent={'x':(-0.15,0.15),'y':(-0.15,0.15)}, \n",
    "                                                rotate=(-180,180), shear=(-10,10), p=1.0),\n",
    "    A.HorizontalFlip(p=0.5),\n",
    "])\n",
    "\n",
    "normalize_transforms = transforms.Compose([\n",
    "    transforms.Normalize(mean=[0.3630, 0.3662, 0.3691], std=[0.3343, 0.3351, 0.3461])\n",
    "])\n",
    "\n",
    "\n",
    "to_tensor_transforms = transforms.Compose([\n",
    "    transforms.ToTensor()\n",
    "])\n",
    "\n",
    "val_transforms = A.Compose([\n",
    "    A.Resize (image_size, image_size, p=1.0),\n",
    "])"
   ]
  },
  {
   "cell_type": "markdown",
   "metadata": {
    "id": "PQTeg7Uxu2Mu"
   },
   "source": [
    "### Next we make our custom dataset and specify order of all needed transformations."
   ]
  },
  {
   "cell_type": "code",
   "execution_count": null,
   "metadata": {
    "id": "Q2IDjznCX_C7"
   },
   "outputs": [],
   "source": [
    "class MyDataset(Dataset):\n",
    "    def __init__(self, image_paths, target_paths, train=True):\n",
    "        self.image_paths = image_paths\n",
    "        self.target_paths = target_paths\n",
    "        self.train = train\n",
    "\n",
    "    def transform(self, image, mask, train):\n",
    "        if train:\n",
    "            transformed = train_transforms(image=image, mask=mask)            \n",
    "            tensor_image = to_tensor_transforms(transformed['image'])\n",
    "            normalized_img = normalize_transforms(tensor_image)\n",
    "        else:          \n",
    "            transformed = val_transforms(image=image, mask=mask)\n",
    "            tensor_image = to_tensor_transforms(transformed['image'])\n",
    "            normalized_img = normalize_transforms(tensor_image)\n",
    "            \n",
    "        return normalized_img, transformed['mask']\n",
    "\n",
    "    def __getitem__(self, index):\n",
    "        image = Image.open(self.image_paths[index])\n",
    "        mask = Image.open(self.target_paths[index])\n",
    "        squared_image = square_the_image(image)\n",
    "        squared_mask = square_the_image(mask)\n",
    "        x, y = self.transform(squared_image, squared_mask, self.train)\n",
    "        return x, y\n",
    "\n",
    "    def __len__(self):\n",
    "        return len(self.image_paths)"
   ]
  },
  {
   "cell_type": "code",
   "execution_count": null,
   "metadata": {
    "id": "Gn8CX-2OX_Bx"
   },
   "outputs": [],
   "source": [
    "train_dataset = MyDataset(train_photos_paths, train_masks_paths, train=True)\n",
    "val_dataset = MyDataset(val_photos_paths, val_masks_paths, train=False)"
   ]
  },
  {
   "cell_type": "markdown",
   "metadata": {
    "id": "PQTeg7Uxu2Mu"
   },
   "source": [
    "### Batch size chosen as 2 because it is all I could fit in 16gb Colab Pro GPU, but we will be using PyTorch gradient accumulation, so effectively we will have batch size of 28-56 images. I trained model on batch size of 28 and then fine-tuned with batch size of 56 to gain last bits of performance. (Random augmentations will prevent us from overfitting)"
   ]
  },
  {
   "cell_type": "code",
   "execution_count": null,
   "metadata": {
    "id": "0qz_ps-2X-_r"
   },
   "outputs": [],
   "source": [
    "train_loader = torch.utils.data.DataLoader(\n",
    "    train_dataset, batch_size=2, shuffle=True,\n",
    "    pin_memory=False, drop_last=False)\n",
    "\n",
    "val_loader = torch.utils.data.DataLoader(\n",
    "    val_dataset, batch_size=2, shuffle=False,\n",
    "    pin_memory=False, drop_last=False)"
   ]
  },
  {
   "cell_type": "markdown",
   "metadata": {
    "id": "PQTeg7Uxu2Mu"
   },
   "source": [
    "### Mean and std calculation for normalization."
   ]
  },
  {
   "cell_type": "code",
   "execution_count": null,
   "metadata": {
    "colab": {
     "base_uri": "https://localhost:8080/"
    },
    "id": "HjAn5axwUrmk",
    "outputId": "f92de537-b6a7-47b9-931d-7be6182da5b4"
   },
   "outputs": [],
   "source": [
    "psum    = torch.tensor([0.0, 0.0, 0.0])\n",
    "psum_sq = torch.tensor([0.0, 0.0, 0.0])\n",
    "\n",
    "# loop through images\n",
    "for inputs, label in train_loader:\n",
    "    psum    += inputs.sum(axis        = [0, 2, 3])\n",
    "    psum_sq += (inputs ** 2).sum(axis = [0, 2, 3])\n",
    "# pixel count\n",
    "count = 56 * image_size * image_size\n",
    "\n",
    "# mean and std\n",
    "total_mean = psum / count\n",
    "total_var  = (psum_sq / count) - (total_mean ** 2)\n",
    "total_std  = torch.sqrt(total_var)\n",
    "\n",
    "# output\n",
    "print('mean: '  + str(total_mean))\n",
    "print('std:  '  + str(total_std))"
   ]
  },
  {
   "cell_type": "raw",
   "metadata": {
    "id": "PQTeg7Uxu2Mu"
   },
   "source": [
    "### We will be using Dice score and IoU as our metrics to measure model performance and Dice as a loss function.\n",
    "### We divide loss by 14-28 because of usage of gradient accumulation (updating weights after every 14-28 minibatch loops). "
   ]
  },
  {
   "cell_type": "code",
   "execution_count": null,
   "metadata": {
    "id": "IMZvmc-eGJ02"
   },
   "outputs": [],
   "source": [
    "def Dice_and_iou(inputs, targets, smooth=1e-6):\n",
    "    \n",
    "    #comment out if your model contains a sigmoid or equivalent activation layer\n",
    "    # inputs = F.sigmoid(inputs)       \n",
    "    \n",
    "    #flatten label and prediction tensors\n",
    "    inputs = inputs.reshape(-1)\n",
    "    targets = targets.reshape(-1)\n",
    "    \n",
    "    intersection = (inputs * targets).sum()                            \n",
    "    dice = (2.*intersection + smooth)/(inputs.sum() + targets.sum() + smooth)  \n",
    "    iou = (intersection + smooth)/(inputs.sum() + targets.sum() - intersection + smooth)  \n",
    "    return dice, iou    "
   ]
  },
  {
   "cell_type": "code",
   "execution_count": null,
   "metadata": {
    "id": "fnTFVlDgX-9x"
   },
   "outputs": [],
   "source": [
    "class DiceLoss(nn.Module):\n",
    "    def __init__(self):\n",
    "        super(DiceLoss, self).__init__()\n",
    "\n",
    "    def forward(self, inputs, targets, smooth=1e-6):\n",
    "        \n",
    "        #comment out if your model contains a sigmoid or equivalent activation layer\n",
    "        # inputs = F.sigmoid(inputs)       \n",
    "        \n",
    "        #flatten label and prediction tensors\n",
    "        inputs = inputs.view(-1)\n",
    "        targets = targets.view(-1)\n",
    "        \n",
    "        intersection = (inputs * targets).sum()  \n",
    "        dice = (2.*intersection + smooth)/(inputs.sum() + targets.sum() + smooth)                               \n",
    "        return (1-dice)/28"
   ]
  },
  {
   "cell_type": "markdown",
   "metadata": {
    "id": "PQTeg7Uxu2Mu"
   },
   "source": [
    "## __4. Training.__\n",
    "### Model we will be using is Unet++ with ResNet101 backbone and ImageNet weights from __[here](https://github.com/qubvel/segmentation_models.pytorch)__!\n",
    "### We define it with 7 channel output for a mask. (6 dataset classes + 0 padded black borders from data augmentations)\n",
    "### Model was learning pretty fast so low starting learning rate was chosen to prevent instability. Also because of models fast learning a lot of the times momentum was starting to carry the model away from point of minimum, and since each batch size is big enough and pretty representative of distribution we are trying to learn, I decided to lower momentum to 0.5 for faster and more stable training. ReduceLROnPlateau is also used.\n",
    "### Training process will be logged to TensorBoard."
   ]
  },
  {
   "cell_type": "code",
   "execution_count": null,
   "metadata": {
    "colab": {
     "base_uri": "https://localhost:8080/",
     "height": 83,
     "referenced_widgets": [
      "18db1510dc21478abad9bd583e2ded1a",
      "d2d54ab1f8c64025b28ce3f533b078d8",
      "f183a0445b264176a8940514bf4e7d9f",
      "5b687de4133e45709d2c0d5a68a6b33a",
      "a8013a5a38714a3a8eca27a7f182977a",
      "95696ed9c6ba4ee09ae774a9fd63236d",
      "770872b820d24bc5992beff5d0745704",
      "32611ed1c5ce4c30929bb5566e86fae6"
     ]
    },
    "id": "MVbNn7eHX-62",
    "outputId": "ed98e6d8-0e08-439f-e532-86741838fb5a"
   },
   "outputs": [],
   "source": [
    "device = 'cuda'\n",
    "\n",
    "num_classes = 7\n",
    "         \n",
    "\n",
    "model = segmentation_models_pytorch.UnetPlusPlus(encoder_name=\"resnet101\",in_channels=3, classes=7,\n",
    "                                                 aux_params=None, encoder_weights=\"imagenet\").to(device)   \n",
    "\n",
    "criterion = DiceLoss()\n",
    "\n",
    "optimizer = torch.optim.Adam(model.parameters(), lr=0.00005, weight_decay=0.0001, betas=(0.5,0.999))\n",
    "\n",
    "scheduler = ReduceLROnPlateau(optimizer, mode='min', factor=0.5, patience=25, cooldown=10, verbose=True)\n",
    "\n",
    "epochs = 999\n",
    "\n",
    "writer = SummaryWriter(log_dir='/content/drive/MyDrive/aerial_logs/', filename_suffix=\"aerial\")"
   ]
  },
  {
   "cell_type": "markdown",
   "metadata": {
    "id": "PQTeg7Uxu2Mu"
   },
   "source": [
    "### Patience of 100 epochs was chosen since each epoch is basically 1-2 parameter updates and so big value for patience is needed."
   ]
  },
  {
   "cell_type": "code",
   "execution_count": null,
   "metadata": {
    "colab": {
     "base_uri": "https://localhost:8080/"
    },
    "id": "IN2y_uoXjhqn",
    "outputId": "120df1fc-6b7c-4433-d88f-3c9553846946"
   },
   "outputs": [],
   "source": [
    "early_stopping = EarlyStopping(patience=100, verbose=True)\n",
    "batch_count = 0\n",
    "\n",
    "for epoch in range(epochs):\n",
    "    train_loss = []\n",
    "    val_loss = []\n",
    "    all_train_iou = []\n",
    "    all_val_iou = []\n",
    "    all_train_dice = []\n",
    "    all_val_dice = []\n",
    "    print(f'Epoch {epoch+1}')\n",
    "\n",
    "    # Training loop\n",
    "    for idx, (inputs, masks) in enumerate(Bar(train_loader)):\n",
    "        batch_count += 1\n",
    "        model.train()\n",
    "        masks_one_hot = torch.tensor([])\n",
    "        for every in masks:\n",
    "            masks_one_hot = torch.cat((masks_one_hot, rgb_to_onehot(every.numpy()).view(1,num_classes, image_size, image_size)))\n",
    "        inputs, masks_one_hot = inputs.to(device), masks_one_hot.to(device)\n",
    "        outputs = model(inputs) \n",
    "        loss = criterion(F.softmax(outputs,dim=1), masks_one_hot) \n",
    "        loss.backward() \n",
    "        if batch_count % 28 == 0:\n",
    "            optimizer.step() \n",
    "            optimizer.zero_grad() \n",
    "        train_loss.append(28*loss.item())\n",
    "        train_dice, train_iou = Dice_and_iou(F.softmax(outputs,dim=1).round(), masks_one_hot)\n",
    "        all_train_iou.append(train_iou) \n",
    "        all_train_dice.append(train_dice)\n",
    "          \n",
    "    all_train_iou = sum(all_train_iou)/(len(all_train_iou)+1e-6)\n",
    "    all_train_dice = sum(all_train_dice)/(len(all_train_dice)+1e-6)     \n",
    "    print(f\"Train IoU: {all_train_iou}\")\n",
    "    print(f\"Train Dice: {all_train_dice}\")\n",
    "    train_loss_final = sum(train_loss)/(len(train_loss)+1e-6)\n",
    "    scheduler.step(train_loss_final)\n",
    "    train_loss_formated = \"{:.4f}\".format(train_loss_final)\n",
    "\n",
    "    # Validation loop\n",
    "    with torch.no_grad():\n",
    "        for inputs, masks in val_loader:\n",
    "            model.eval()       \n",
    "            masks_one_hot = torch.tensor([])\n",
    "            for every in masks:\n",
    "                masks_one_hot = torch.cat((masks_one_hot, rgb_to_onehot(every.numpy()).view(1,num_classes, image_size, image_size)))\n",
    "            inputs, masks_one_hot = inputs.to(device), masks_one_hot.to(device)\n",
    "            outputs = model(inputs)\n",
    "            loss = criterion(F.softmax(outputs,dim=1), masks_one_hot) \n",
    "            val_loss.append(28*loss.item())\n",
    "            val_dice, val_iou = Dice_and_iou(F.softmax(outputs,dim=1).round(), masks_one_hot)\n",
    "            all_val_iou.append(val_iou)\n",
    "            all_val_dice.append(val_dice)\n",
    "    \n",
    "    all_val_iou = sum(all_val_iou)/(len(all_val_iou)+1e-6)\n",
    "    all_val_dice = sum(all_val_dice)/(len(all_val_dice)+1e-6)\n",
    "    print(f\"Val IoU: {all_val_iou}\")   \n",
    "    print(f\"Val dice: {all_val_dice}\")    \n",
    "    val_loss_final = sum(val_loss)/(len(val_loss)+1e-6)\n",
    "    val_loss_formated = \"{:.4f}\".format(val_loss_final)\n",
    "    print(f'Training Loss: {train_loss_formated}')\n",
    "    print(f\"Validation Loss: {val_loss_formated}\")\n",
    "\n",
    "    # TensorBoard writer \n",
    "    writer.add_scalar('Loss/train', train_loss_final, epoch+1)\n",
    "    writer.add_scalar('Loss/val', val_loss_final, epoch+1)\n",
    "    writer.add_scalar('IoU/train', all_train_iou, epoch+1)\n",
    "    writer.add_scalar('IoU/val', all_val_iou, epoch+1)\n",
    "    writer.add_scalar('Dice/train', all_train_dice, epoch+1)\n",
    "    writer.add_scalar('Dice/val', all_val_dice, epoch+1)\n",
    "  \n",
    "\n",
    "    # Early Stopping\n",
    "    early_stopping(val_loss_final, model)       \n",
    "    if early_stopping.early_stop:\n",
    "        print(\"Early stopping\")\n",
    "        break\n",
    "        \n",
    "# load the last checkpoint with the best model\n",
    "model.load_state_dict(torch.load('/content/drive/MyDrive/aerialmodel.pt'))     "
   ]
  },
  {
   "cell_type": "markdown",
   "metadata": {
    "id": "PQTeg7Uxu2Mu"
   },
   "source": [
    "##\n",
    "## __5. Results.__\n",
    "### Model training for around 250 epocs (2.5 hours) with a batch size of 28 and fine tuned for couple more hours with a batch size of 56. \n",
    "### Result metrics are:\n",
    "#### Train IoU: 0.9059\n",
    "#### Train Dice: 0.9501\n",
    "####\n",
    "#### Val IoU: 0.7506\n",
    "#### Val Dice: 0.8558\n",
    "####\n",
    "#### Training Loss: 0.0534\n",
    "#### Validation Loss: 0.1467\n",
    "####\n",
    "#### Difference between train and val metrics is mostly due to small val dataset, not overfitting.\n",
    "### Now we will look ar by class IoU and make per pixel classification confusion matrix and classification report."
   ]
  },
  {
   "cell_type": "code",
   "execution_count": null,
   "metadata": {
    "colab": {
     "base_uri": "https://localhost:8080/"
    },
    "id": "1deah4CcRe8n",
    "outputId": "42804ca7-9916-4f11-86a4-2813d239f96f"
   },
   "outputs": [
    {
     "name": "stdout",
     "output_type": "stream",
     "text": [
      "By class IoU:\n",
      "Vegetation   0.694488699441202\n",
      "Land         0.7508653792523501\n",
      "Road         0.5462118738509806\n",
      "Building     0.638781656855028\n",
      "Water        0.8631276465130994\n",
      "Unlabeled    0.0\n"
     ]
    }
   ],
   "source": [
    "iou_metric = IoU(num_classes, normalized=False, ignore_index=None)\n",
    "iou_metric.reset()\n",
    "with torch.no_grad():\n",
    "    for inputs, masks in val_loader:\n",
    "        model.eval()       \n",
    "        masks_one_hot = torch.tensor([])\n",
    "        for every in masks:\n",
    "            masks_one_hot = torch.cat((masks_one_hot, rgb_to_onehot(every.numpy()).view(1,num_classes, image_size, image_size)))\n",
    "        inputs, masks_one_hot = inputs.to(device), masks_one_hot.to(device)\n",
    "        outputs = model(inputs)\n",
    "        iou_metric.add(torch.softmax(outputs,dim=1), masks_one_hot)\n",
    "\n",
    "\n",
    "iou, mean_val_iou = iou_metric.value()\n",
    "print(f\"\"\"By class IoU:\n",
    "Vegetation   {iou[1]}\n",
    "Land         {iou[2]}\n",
    "Road         {iou[3]}\n",
    "Building     {iou[4]}\n",
    "Water        {iou[5]}\n",
    "Unlabeled    {iou[6]}\"\"\")\n"
   ]
  },
  {
   "cell_type": "markdown",
   "metadata": {
    "id": "PQTeg7Uxu2Mu"
   },
   "source": [
    "### The smallest IoU is for unlabeled class and as we will see lower it mostly got classified as land and buildings. It probably is some special class of buildings in Dubai or just hard to identify objects, so this result is understandable.\n",
    "### Second and third lowest IoU is Road and Building classes which are also anderstandably some of the hardest to get accurate since they  are pretty small on theese photos."
   ]
  },
  {
   "cell_type": "code",
   "execution_count": null,
   "metadata": {
    "colab": {
     "base_uri": "https://localhost:8080/",
     "height": 571
    },
    "id": "344dllTHDdg0",
    "outputId": "9283ad00-9f6e-4f2c-df9a-fded421aac71"
   },
   "outputs": [
    {
     "name": "stderr",
     "output_type": "stream",
     "text": [
      "/usr/local/lib/python3.7/dist-packages/sklearn/metrics/_classification.py:1272: UndefinedMetricWarning: Precision and F-score are ill-defined and being set to 0.0 in labels with no predicted samples. Use `zero_division` parameter to control this behavior.\n",
      "  _warn_prf(average, modifier, msg_start, len(result))\n"
     ]
    },
    {
     "name": "stdout",
     "output_type": "stream",
     "text": [
      "              precision    recall  f1-score   support\n",
      "\n",
      "       Bord.       0.99      0.99      0.99   1330085\n",
      "      Veget.       0.88      0.77      0.82   1408415\n",
      "        Land       0.83      0.89      0.86   3921249\n",
      "        Road       0.74      0.68      0.71    908570\n",
      "      Build.       0.82      0.75      0.78   1158302\n",
      "       Water       0.89      0.96      0.93   1429651\n",
      "    Unlabel.       0.00      0.00      0.00     83728\n",
      "\n",
      "    accuracy                           0.86  10240000\n",
      "   macro avg       0.73      0.72      0.73  10240000\n",
      "weighted avg       0.85      0.86      0.85  10240000\n",
      "\n"
     ]
    },
    {
     "data": {
      "image/png": "[encoded data removed]",
      "text/plain": [
       "<Figure size 432x288 with 2 Axes>"
      ]
     },
     "metadata": {
      "needs_background": "light",
      "tags": []
     },
     "output_type": "display_data"
    }
   ],
   "source": [
    "num_classes = 7\n",
    "\n",
    "predlist = torch.zeros(0,dtype=torch.long, device='cpu')\n",
    "lbllist = torch.zeros(0,dtype=torch.long, device='cpu')\n",
    "all_masks_one_hot = torch.tensor([])\n",
    "\n",
    "with torch.no_grad():\n",
    "    for i, (inputs, masks) in enumerate(val_loader):\n",
    "        model.eval()\n",
    "        inputs = inputs.to(device)\n",
    "        masks = masks.to(device)\n",
    "        outputs = model(inputs)\n",
    "        masks_one_hot = torch.tensor([])\n",
    "        for every in masks:\n",
    "            masks_one_hot = torch.cat((masks_one_hot, rgb_to_onehot(every.cpu().numpy()).view(1,num_classes, image_size, image_size)))\n",
    "        all_masks_one_hot=torch.cat([all_masks_one_hot,masks_one_hot.cpu()])\n",
    "        # Append batch prediction results\n",
    "        predlist=torch.cat([predlist,torch.argmax(outputs,dim=1).view(-1).cpu()])\n",
    "        lbllist=torch.cat([lbllist,torch.argmax(masks_one_hot,dim=1).view(-1).cpu()])\n",
    "predlist = predlist.numpy()\n",
    "lbllist = lbllist.numpy()\n",
    "\n",
    "# Confusion matrix, classification report and AUC\n",
    "conf_mat=confusion_matrix(lbllist, predlist)\n",
    "conf_mat = conf_mat.astype('float') / conf_mat.sum(axis=1)[:, np.newaxis]\n",
    "target_names = ['Bord.','Veget.','Land','Road','Build.','Water','Unlabel.',]\n",
    "ConfusionMatrixDisplay(conf_mat, display_labels=target_names).plot()\n",
    "print(classification_report(lbllist, predlist, target_names=target_names))"
   ]
  },
  {
   "cell_type": "markdown",
   "metadata": {
    "id": "PQTeg7Uxu2Mu"
   },
   "source": [
    "### Considering the size of the dataset I think that results that we got are pretty good!\n",
    "### Next we can plot results of our model's work!"
   ]
  },
  {
   "cell_type": "code",
   "execution_count": 36,
   "metadata": {
    "id": "aSKxE-oRDVGY"
   },
   "outputs": [],
   "source": [
    "masks = torch.tensor([])\n",
    "modeled_masks = torch.tensor([])\n",
    "rgb_modeled_masks = []\n",
    "with torch.no_grad():\n",
    "    for inputs, mask in val_loader:\n",
    "        model.eval()       \n",
    "        inputs= inputs.to(device)\n",
    "        outputs = model(inputs)\n",
    "        masks = torch.cat((masks,mask.permute(0,3,1,2)))\n",
    "        modeled_masks = torch.cat((modeled_masks,outputs.cpu()))\n",
    "for every in modeled_masks:\n",
    "     rgb_modeled_masks.append(onehot_to_rgb(every.permute(1,2,0)))"
   ]
  },
  {
   "cell_type": "code",
   "execution_count": 37,
   "metadata": {
    "id": "VpQrK8lVg9ou"
   },
   "outputs": [],
   "source": [
    "normalize_transforms = transforms.Compose([\n",
    "])"
   ]
  },
  {
   "cell_type": "code",
   "execution_count": 38,
   "metadata": {
    "id": "sqYpHTa-Vko0"
   },
   "outputs": [],
   "source": [
    "unnormalized_pics = torch.tensor([])\n",
    "with torch.no_grad():\n",
    "    for inputs, mask in val_loader:\n",
    "        unnormalized_pics = torch.cat((unnormalized_pics, inputs))"
   ]
  },
  {
   "cell_type": "code",
   "execution_count": null,
   "metadata": {
    "colab": {
     "base_uri": "https://localhost:8080/",
     "height": 1000
    },
    "id": "fc4O-Rexu2RD",
    "outputId": "572c13e2-6fcc-4f3b-d694-57ec7cf0290f"
   },
   "outputs": [],
   "source": [
    "count = 0\n",
    "for j in range(16):\n",
    "    count += 1\n",
    "    fig = plt.figure(figsize=(20,8))\n",
    "\n",
    "    ax1 = fig.add_subplot(1,3,1)\n",
    "    ax1.imshow(unnormalized_pics[j].permute(1,2,0))\n",
    "    ax1.set_title('Input Image', fontdict={'fontsize': 16, 'fontweight': 'medium'})\n",
    "    ax1.grid(False)\n",
    "\n",
    "    ax2 = fig.add_subplot(1,3,2)\n",
    "    ax2.set_title('Ground Truth Mask', fontdict={'fontsize': 16, 'fontweight': 'medium'})\n",
    "    ax2.imshow(masks[j].int().permute(1,2,0))\n",
    "    ax2.grid(False)\n",
    "\n",
    "    ax3 = fig.add_subplot(1,3,3)\n",
    "    ax3.set_title('Predicted Mask', fontdict={'fontsize': 16, 'fontweight': 'medium'})\n",
    "    ax3.imshow(rgb_modeled_masks[j])\n",
    "    ax3.grid(False)\n",
    "\n",
    "#     plt.savefig('/content/drive/MyDrive/predictions/prediction_{}.png'.format(count), facecolor= 'w', transparent= False, bbox_inches= 'tight', dpi= 200)\n",
    "    plt.show()"
   ]
  },
  {
   "cell_type": "code",
   "execution_count": null,
   "metadata": {
    "id": "PQTeg7Uxu2Mu"
   },
   "outputs": [],
   "source": []
  },
  {
   "cell_type": "code",
   "execution_count": null,
   "metadata": {
    "id": "hgML86vau2LP"
   },
   "outputs": [],
   "source": []
  },
  {
   "cell_type": "code",
   "execution_count": null,
   "metadata": {
    "id": "HduhhEm_u2JI"
   },
   "outputs": [],
   "source": []
  },
  {
   "cell_type": "code",
   "execution_count": null,
   "metadata": {
    "id": "-VUJMyoxu2Hv"
   },
   "outputs": [],
   "source": []
  },
  {
   "cell_type": "code",
   "execution_count": null,
   "metadata": {
    "id": "7o-G2IV5u2FY"
   },
   "outputs": [],
   "source": []
  },
  {
   "cell_type": "code",
   "execution_count": null,
   "metadata": {
    "id": "Rvi-sZWWu2Dm"
   },
   "outputs": [],
   "source": []
  },
  {
   "cell_type": "code",
   "execution_count": null,
   "metadata": {
    "id": "dN5DE5Dou2Bl"
   },
   "outputs": [],
   "source": []
  },
  {
   "cell_type": "code",
   "execution_count": null,
   "metadata": {
    "id": "GSbeyllXu1_a"
   },
   "outputs": [],
   "source": []
  },
  {
   "cell_type": "code",
   "execution_count": null,
   "metadata": {
    "id": "em3iGSz_u19W"
   },
   "outputs": [],
   "source": []
  },
  {
   "cell_type": "code",
   "execution_count": null,
   "metadata": {
    "id": "aIx4d5ALu18E"
   },
   "outputs": [],
   "source": []
  },
  {
   "cell_type": "code",
   "execution_count": null,
   "metadata": {
    "id": "x11KT2hru157"
   },
   "outputs": [],
   "source": []
  },
  {
   "cell_type": "code",
   "execution_count": null,
   "metadata": {
    "id": "2NOgjqOquURq"
   },
   "outputs": [],
   "source": []
  },
  {
   "cell_type": "code",
   "execution_count": null,
   "metadata": {
    "id": "HC0JAvxBu2Mh"
   },
   "outputs": [],
   "source": []
  },
  {
   "cell_type": "code",
   "execution_count": null,
   "metadata": {
    "id": "4Sw0Z4jvu4xY"
   },
   "outputs": [],
   "source": []
  }
 ],
 "metadata": {
  "accelerator": "GPU",
  "colab": {
   "collapsed_sections": [],
   "name": "aerial_semantic_segmentation.ipynb",
   "provenance": []
  },
  "kernelspec": {
   "display_name": "Python 3",
   "language": "python",
   "name": "python3"
  },
  "language_info": {
   "codemirror_mode": {
    "name": "ipython",
    "version": 3
   },
   "file_extension": ".py",
   "mimetype": "text/x-python",
   "name": "python",
   "nbconvert_exporter": "python",
   "pygments_lexer": "ipython3",
   "version": "3.8.7"
  },
  "widgets": {
   "application/vnd.jupyter.widget-state+json": {
    "18db1510dc21478abad9bd583e2ded1a": {
     "model_module": "@jupyter-widgets/controls",
     "model_name": "HBoxModel",
     "state": {
      "_dom_classes": [],
      "_model_module": "@jupyter-widgets/controls",
      "_model_module_version": "1.5.0",
      "_model_name": "HBoxModel",
      "_view_count": null,
      "_view_module": "@jupyter-widgets/controls",
      "_view_module_version": "1.5.0",
      "_view_name": "HBoxView",
      "box_style": "",
      "children": [
       "IPY_MODEL_f183a0445b264176a8940514bf4e7d9f",
       "IPY_MODEL_5b687de4133e45709d2c0d5a68a6b33a"
      ],
      "layout": "IPY_MODEL_d2d54ab1f8c64025b28ce3f533b078d8"
     }
    },
    "32611ed1c5ce4c30929bb5566e86fae6": {
     "model_module": "@jupyter-widgets/base",
     "model_name": "LayoutModel",
     "state": {
      "_model_module": "@jupyter-widgets/base",
      "_model_module_version": "1.2.0",
      "_model_name": "LayoutModel",
      "_view_count": null,
      "_view_module": "@jupyter-widgets/base",
      "_view_module_version": "1.2.0",
      "_view_name": "LayoutView",
      "align_content": null,
      "align_items": null,
      "align_self": null,
      "border": null,
      "bottom": null,
      "display": null,
      "flex": null,
      "flex_flow": null,
      "grid_area": null,
      "grid_auto_columns": null,
      "grid_auto_flow": null,
      "grid_auto_rows": null,
      "grid_column": null,
      "grid_gap": null,
      "grid_row": null,
      "grid_template_areas": null,
      "grid_template_columns": null,
      "grid_template_rows": null,
      "height": null,
      "justify_content": null,
      "justify_items": null,
      "left": null,
      "margin": null,
      "max_height": null,
      "max_width": null,
      "min_height": null,
      "min_width": null,
      "object_fit": null,
      "object_position": null,
      "order": null,
      "overflow": null,
      "overflow_x": null,
      "overflow_y": null,
      "padding": null,
      "right": null,
      "top": null,
      "visibility": null,
      "width": null
     }
    },
    "5b687de4133e45709d2c0d5a68a6b33a": {
     "model_module": "@jupyter-widgets/controls",
     "model_name": "HTMLModel",
     "state": {
      "_dom_classes": [],
      "_model_module": "@jupyter-widgets/controls",
      "_model_module_version": "1.5.0",
      "_model_name": "HTMLModel",
      "_view_count": null,
      "_view_module": "@jupyter-widgets/controls",
      "_view_module_version": "1.5.0",
      "_view_name": "HTMLView",
      "description": "",
      "description_tooltip": null,
      "layout": "IPY_MODEL_32611ed1c5ce4c30929bb5566e86fae6",
      "placeholder": "​",
      "style": "IPY_MODEL_770872b820d24bc5992beff5d0745704",
      "value": " 170M/170M [00:02&lt;00:00, 67.9MB/s]"
     }
    },
    "770872b820d24bc5992beff5d0745704": {
     "model_module": "@jupyter-widgets/controls",
     "model_name": "DescriptionStyleModel",
     "state": {
      "_model_module": "@jupyter-widgets/controls",
      "_model_module_version": "1.5.0",
      "_model_name": "DescriptionStyleModel",
      "_view_count": null,
      "_view_module": "@jupyter-widgets/base",
      "_view_module_version": "1.2.0",
      "_view_name": "StyleView",
      "description_width": ""
     }
    },
    "95696ed9c6ba4ee09ae774a9fd63236d": {
     "model_module": "@jupyter-widgets/base",
     "model_name": "LayoutModel",
     "state": {
      "_model_module": "@jupyter-widgets/base",
      "_model_module_version": "1.2.0",
      "_model_name": "LayoutModel",
      "_view_count": null,
      "_view_module": "@jupyter-widgets/base",
      "_view_module_version": "1.2.0",
      "_view_name": "LayoutView",
      "align_content": null,
      "align_items": null,
      "align_self": null,
      "border": null,
      "bottom": null,
      "display": null,
      "flex": null,
      "flex_flow": null,
      "grid_area": null,
      "grid_auto_columns": null,
      "grid_auto_flow": null,
      "grid_auto_rows": null,
      "grid_column": null,
      "grid_gap": null,
      "grid_row": null,
      "grid_template_areas": null,
      "grid_template_columns": null,
      "grid_template_rows": null,
      "height": null,
      "justify_content": null,
      "justify_items": null,
      "left": null,
      "margin": null,
      "max_height": null,
      "max_width": null,
      "min_height": null,
      "min_width": null,
      "object_fit": null,
      "object_position": null,
      "order": null,
      "overflow": null,
      "overflow_x": null,
      "overflow_y": null,
      "padding": null,
      "right": null,
      "top": null,
      "visibility": null,
      "width": null
     }
    },
    "a8013a5a38714a3a8eca27a7f182977a": {
     "model_module": "@jupyter-widgets/controls",
     "model_name": "ProgressStyleModel",
     "state": {
      "_model_module": "@jupyter-widgets/controls",
      "_model_module_version": "1.5.0",
      "_model_name": "ProgressStyleModel",
      "_view_count": null,
      "_view_module": "@jupyter-widgets/base",
      "_view_module_version": "1.2.0",
      "_view_name": "StyleView",
      "bar_color": null,
      "description_width": "initial"
     }
    },
    "d2d54ab1f8c64025b28ce3f533b078d8": {
     "model_module": "@jupyter-widgets/base",
     "model_name": "LayoutModel",
     "state": {
      "_model_module": "@jupyter-widgets/base",
      "_model_module_version": "1.2.0",
      "_model_name": "LayoutModel",
      "_view_count": null,
      "_view_module": "@jupyter-widgets/base",
      "_view_module_version": "1.2.0",
      "_view_name": "LayoutView",
      "align_content": null,
      "align_items": null,
      "align_self": null,
      "border": null,
      "bottom": null,
      "display": null,
      "flex": null,
      "flex_flow": null,
      "grid_area": null,
      "grid_auto_columns": null,
      "grid_auto_flow": null,
      "grid_auto_rows": null,
      "grid_column": null,
      "grid_gap": null,
      "grid_row": null,
      "grid_template_areas": null,
      "grid_template_columns": null,
      "grid_template_rows": null,
      "height": null,
      "justify_content": null,
      "justify_items": null,
      "left": null,
      "margin": null,
      "max_height": null,
      "max_width": null,
      "min_height": null,
      "min_width": null,
      "object_fit": null,
      "object_position": null,
      "order": null,
      "overflow": null,
      "overflow_x": null,
      "overflow_y": null,
      "padding": null,
      "right": null,
      "top": null,
      "visibility": null,
      "width": null
     }
    },
    "f183a0445b264176a8940514bf4e7d9f": {
     "model_module": "@jupyter-widgets/controls",
     "model_name": "FloatProgressModel",
     "state": {
      "_dom_classes": [],
      "_model_module": "@jupyter-widgets/controls",
      "_model_module_version": "1.5.0",
      "_model_name": "FloatProgressModel",
      "_view_count": null,
      "_view_module": "@jupyter-widgets/controls",
      "_view_module_version": "1.5.0",
      "_view_name": "ProgressView",
      "bar_style": "success",
      "description": "100%",
      "description_tooltip": null,
      "layout": "IPY_MODEL_95696ed9c6ba4ee09ae774a9fd63236d",
      "max": 178728960,
      "min": 0,
      "orientation": "horizontal",
      "style": "IPY_MODEL_a8013a5a38714a3a8eca27a7f182977a",
      "value": 178728960
     }
    }
   }
  }
 },
 "nbformat": 4,
 "nbformat_minor": 4
}
